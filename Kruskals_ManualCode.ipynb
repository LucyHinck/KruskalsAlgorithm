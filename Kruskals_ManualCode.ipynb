{
  "nbformat": 4,
  "nbformat_minor": 0,
  "metadata": {
    "colab": {
      "provenance": [],
      "authorship_tag": "ABX9TyNWKG4uGkpdZWGuS3pjr9O8",
      "include_colab_link": true
    },
    "kernelspec": {
      "name": "python3",
      "display_name": "Python 3"
    },
    "language_info": {
      "name": "python"
    }
  },
  "cells": [
    {
      "cell_type": "markdown",
      "metadata": {
        "id": "view-in-github",
        "colab_type": "text"
      },
      "source": [
        "<a href=\"https://colab.research.google.com/github/LucyHinck/KruskalsAlgorithm/blob/Manual-Code/Kruskals_ManualCode.ipynb\" target=\"_parent\"><img src=\"https://colab.research.google.com/assets/colab-badge.svg\" alt=\"Open In Colab\"/></a>"
      ]
    },
    {
      "cell_type": "markdown",
      "source": [
        "Analysis of Algorithms class, Spring 2025, Dr. Sarah Roscoe\n",
        "\n",
        "Video 2 assignment, Graph Algorithms: Kruskal's Algorithm, Due Aril 18th, 2025\n",
        "\n",
        "Lucy H., Programmer; Melanie P., Architect; Jack V., Videographer\n",
        "\n",
        "Manual Code"
      ],
      "metadata": {
        "id": "k-Gj0p1Tpx6n"
      }
    },
    {
      "cell_type": "code",
      "execution_count": 1,
      "metadata": {
        "colab": {
          "base_uri": "https://localhost:8080/"
        },
        "id": "-OQQjhM9pwE9",
        "outputId": "720695cf-7fff-47fe-d36e-9125163cbd8f"
      },
      "outputs": [
        {
          "output_type": "stream",
          "name": "stdout",
          "text": [
            "Melanie's Example: \n",
            "Edges in MST: [(5, 6, 1), (1, 3, 2), (8, 9, 2), (1, 4, 3), (7, 8, 3), (1, 2, 4), (3, 5, 5), (6, 7, 12)]\n",
            "Total weight: 32\n",
            " \n",
            "Second Example: \n",
            "Edges in MST: [(8, 10, 0), (87, 24, 1), (14, 44, 2), (26, 88, 2), (16, 14, 3), (26, 62, 3), (82, 70, 3), (26, 44, 4), (61, 19, 4), (100, 21, 4), (27, 16, 5), (88, 87, 5), (14, 12, 6), (35, 61, 7), (8, 27, 8), (20, 61, 8), (21, 35, 9), (44, 4, 9), (82, 27, 10), (14, 13, 12), (14, 100, 15)]\n",
            "Total weight: 120\n"
          ]
        }
      ],
      "source": [
        "class DisjointSet:\n",
        "    # set all nodes as parents of themselves\n",
        "    def __init__(self, n):\n",
        "        self.parent = list(range(n)) #each node is its own parent,\n",
        "                           #so each node is it its own set and none are in the same set\n",
        "        self.rank = [0] * n #create rank (estimated height) for each node staring at zero\n",
        "\n",
        "    # find root\n",
        "    def find(self, u):\n",
        "        if self.parent[u] != u: #if node is not its own parent\n",
        "            self.parent[u] = self.find(self.parent[u]) #recursibly finds parent until root is located\n",
        "        return self.parent[u] #and return parent (root of set or self)\n",
        "\n",
        "    #union two nodes\n",
        "    def union(self, u, v):\n",
        "        root_u = self.find(u)\n",
        "        root_v = self.find(v)\n",
        "\n",
        "        if root_u == root_v: #checks if u and v are connected\n",
        "            return False #u and v are in the same set,  no union needed\n",
        "\n",
        "        # Union by rank (attacthing smaller tree under larger one)\n",
        "        if self.rank[root_u] < self.rank[root_v]: #if root of set containing u is smaller than root of set containing v\n",
        "            self.parent[root_u] = root_v #append root of set u to root of set v\n",
        "        elif self.rank[root_u] > self.rank[root_v]: #same as above, reveresed\n",
        "            self.parent[root_v] = root_u\n",
        "        else:\n",
        "            self.parent[root_v] = root_u #if roots are equal\n",
        "            self.rank[root_u] += 1 #add 1 to rank of root_u arbitrarily,  as root_u height has increased by 1\n",
        "\n",
        "        return True #u and v were in different sets (and now they've been unioned')\n",
        "\n",
        "# Sort edges based on weight\n",
        "def kruskals_algorithm(n, edges):\n",
        "    edges.sort() #sorts edges min to max\n",
        "    dsu = DisjointSet(n) #run through DisjointedSet for number of nodes n\n",
        "    mst = [] #final minimum spanning tree\n",
        "    total_weight = 0 #total weight of mst\n",
        "\n",
        "    for weight, u, v in edges: #for each edge in edges list\n",
        "        if dsu.union(u, v): #if the two nodes are not connected already\n",
        "            mst.append((u, v, weight)) #add edge for final mst\n",
        "            total_weight += weight #adds weight of new edge to total weight of mst\n",
        "\n",
        "    return mst, total_weight #return final min spanning tree and final total weight\n",
        "\n",
        "\n",
        "    # IMPLEMENTATION\n",
        "\n",
        "#Melanie's Example with 10 edges\n",
        "if __name__ == \"__main__\":\n",
        "    Melanie_Ex = [\n",
        "       (4, 1, 2),  #one edge (weight, u, v)\n",
        "        (9, 2, 4),\n",
        "        (2, 1, 3),\n",
        "        (3, 1, 4),\n",
        "        (5, 3, 5),\n",
        "        (1, 5, 6),\n",
        "        (12, 6, 7),\n",
        "        (10, 7, 9),\n",
        "        (3, 7, 8),\n",
        "        (2, 8, 9),\n",
        "    ]\n",
        "    m = 10  #number of nodes\n",
        "    m_mst, m_total = kruskals_algorithm(m, Melanie_Ex)\n",
        "\n",
        "\n",
        "    #Second example with 25 edges.\n",
        "#Nodes are street numbers, edges are time in minutes between houses by walking\n",
        "    edges = [\n",
        "        (4, 26, 44),  #(weight, u, v)\n",
        "        (9, 44, 4),\n",
        "        (2, 26, 88),\n",
        "        (3, 26, 62),\n",
        "        (5, 88, 87),\n",
        "        (1, 87, 24),\n",
        "        (12, 24, 82),\n",
        "        (10, 82, 27),\n",
        "        (3, 82, 70),\n",
        "        (14, 70, 27),\n",
        "        (8, 8, 27),\n",
        "        (0, 8, 10),\n",
        "        (5, 27, 16),\n",
        "        (3, 16, 14),\n",
        "        (6, 14, 12),\n",
        "        (2, 14, 44),\n",
        "        (12, 14, 13),\n",
        "        (17, 13, 61),\n",
        "        (15, 14, 100),\n",
        "        (4, 100, 21),\n",
        "        (9, 21, 35),\n",
        "        (7, 35, 61),\n",
        "        (4, 61, 19),\n",
        "        (9, 19, 20),\n",
        "        (8, 20, 61),\n",
        "    ]\n",
        "    n = 101\n",
        "    e_mst, e_total = kruskals_algorithm(n, edges)\n",
        "\n",
        "\n",
        "    #The architect', Melanie's, example with numbers coorosponding to the letter nodes\n",
        "    print(\"Melanie's Example: \")\n",
        "    print(\"Edges in MST:\", m_mst)\n",
        "    print(\"Total weight:\", m_total)\n",
        "    print(\" \")\n",
        "\n",
        "#second example\n",
        "    print(\"Second Example: \")\n",
        "    print(\"Edges in MST:\", e_mst)\n",
        "    print(\"Total weight:\", e_total)"
      ]
    }
  ]
}