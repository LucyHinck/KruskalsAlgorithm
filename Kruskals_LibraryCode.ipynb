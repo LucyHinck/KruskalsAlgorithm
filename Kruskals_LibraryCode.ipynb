{
  "nbformat": 4,
  "nbformat_minor": 0,
  "metadata": {
    "colab": {
      "provenance": [],
      "authorship_tag": "ABX9TyNjQCjGnw2FxOKEAnZ8Z3Jv",
      "include_colab_link": true
    },
    "kernelspec": {
      "name": "python3",
      "display_name": "Python 3"
    },
    "language_info": {
      "name": "python"
    }
  },
  "cells": [
    {
      "cell_type": "markdown",
      "metadata": {
        "id": "view-in-github",
        "colab_type": "text"
      },
      "source": [
        "<a href=\"https://colab.research.google.com/github/LucyHinck/KruskalsAlgorithm/blob/Library-Code/Kruskals_LibraryCode.ipynb\" target=\"_parent\"><img src=\"https://colab.research.google.com/assets/colab-badge.svg\" alt=\"Open In Colab\"/></a>"
      ]
    },
    {
      "cell_type": "markdown",
      "source": [
        "Analysis of Algorithms class, Spring 2025, Dr. Sarah Roscoe\n",
        "\n",
        "Video 2 assignment, Graph Algorithms: Kruskal's Algorithm, Due Aril 18th, 2025\n",
        "\n",
        "Lucy H., Programmer; Melanie P., Architect; Jack V., Videographer\n",
        "\n",
        "Library Code"
      ],
      "metadata": {
        "id": "k-Gj0p1Tpx6n"
      }
    },
    {
      "cell_type": "code",
      "source": [
        "import networkx as nx\n",
        "\n",
        "def kruskal_mst(graph):\n",
        "  \"\"\"Finds the Minimum Spanning Tree (MST) of a graph using Kruskal's algorithm.\"\"\"\n",
        "  mst = nx.minimum_spanning_tree(graph, algorithm=\"kruskal\")\n",
        "  return mst\n",
        "\n",
        "\n",
        "# IMPLEMENTATION\n",
        "\n",
        "#Melanie's Example with 10 edges\n",
        "if __name__ == \"__main__\":\n",
        "    Melanie_Ex = [\n",
        "       (4, 1, 2),  #one edge (weight, u, v)\n",
        "        (9, 2, 4),\n",
        "        (2, 1, 3),\n",
        "        (3, 1, 4),\n",
        "        (5, 3, 5),\n",
        "        (1, 5, 6),\n",
        "        (12, 6, 7),\n",
        "        (10, 7, 9),\n",
        "        (3, 7, 8),\n",
        "        (2, 8, 9),\n",
        "    ]\n",
        "\n",
        "    #networx library implementation\n",
        "    graph = nx.Graph()\n",
        "    graph.add_weighted_edges_from(Melanie_Ex)\n",
        "    l_m_mst = kruskal_mst(graph)\n",
        "\n",
        "\n",
        "\n",
        "    #Second example with 25 edges.\n",
        "#Nodes are street numbers, edges are time in minutes between houses by walking\n",
        "    edges = [\n",
        "        (4, 26, 44),  #(weight, u, v)\n",
        "        (9, 44, 4),\n",
        "        (2, 26, 88),\n",
        "        (3, 26, 62),\n",
        "        (5, 88, 87),\n",
        "        (1, 87, 24),\n",
        "        (12, 24, 82),\n",
        "        (10, 82, 27),\n",
        "        (3, 82, 70),\n",
        "        (14, 70, 27),\n",
        "        (8, 8, 27),\n",
        "        (0, 8, 10),\n",
        "        (5, 27, 16),\n",
        "        (3, 16, 14),\n",
        "        (6, 14, 12),\n",
        "        (2, 14, 44),\n",
        "        (12, 14, 13),\n",
        "        (17, 13, 61),\n",
        "        (15, 14, 100),\n",
        "        (4, 100, 21),\n",
        "        (9, 21, 35),\n",
        "        (7, 35, 61),\n",
        "        (4, 61, 19),\n",
        "        (9, 19, 20),\n",
        "        (8, 20, 61),\n",
        "    ]\n",
        "\n",
        "\n",
        "     #networx library implementation\n",
        "    e_graph = nx.Graph()\n",
        "    e_graph.add_weighted_edges_from(edges)\n",
        "    l_e_mst = kruskal_mst(e_graph)\n",
        "\n",
        "\n",
        "#The architect', Melanie's, example with numbers coorosponding to the letter nodes\n",
        "    print(\"Melanie's Example: \")\n",
        "    print(\"Library networx:\", l_m_mst.edges(data=True))\n",
        "    print(\" \")\n",
        "\n",
        "#second example\n",
        "    print(\"Second Example: \")\n",
        "    print(\"Library networx:\", l_e_mst.edges(data=True))"
      ],
      "metadata": {
        "colab": {
          "base_uri": "https://localhost:8080/"
        },
        "id": "XIt0C_O3qfle",
        "outputId": "badb5a02-83de-457e-887a-c9b62b21608a"
      },
      "execution_count": 1,
      "outputs": [
        {
          "output_type": "stream",
          "name": "stdout",
          "text": [
            "Melanie's Example: \n",
            "Library networx: [(4, 1, {'weight': 2}), (1, 2, {'weight': 3}), (1, 3, {'weight': 4}), (9, 2, {'weight': 4}), (2, 8, {'weight': 9}), (3, 5, {'weight': 5}), (3, 7, {'weight': 8}), (12, 6, {'weight': 7}), (10, 7, {'weight': 9})]\n",
            " \n",
            "Second Example: \n",
            "Library networx: [(4, 61, {'weight': 19}), (4, 100, {'weight': 21}), (4, 26, {'weight': 44}), (26, 3, {'weight': 62}), (26, 2, {'weight': 88}), (9, 44, {'weight': 4}), (9, 19, {'weight': 20}), (9, 21, {'weight': 35}), (2, 14, {'weight': 44}), (3, 16, {'weight': 14}), (3, 82, {'weight': 70}), (5, 27, {'weight': 16}), (5, 88, {'weight': 87}), (1, 87, {'weight': 24}), (12, 14, {'weight': 13}), (12, 24, {'weight': 82}), (10, 82, {'weight': 27}), (14, 6, {'weight': 12}), (14, 70, {'weight': 27}), (14, 15, {'weight': 100}), (8, 0, {'weight': 10}), (8, 20, {'weight': 61}), (17, 13, {'weight': 61}), (7, 35, {'weight': 61})]\n"
          ]
        }
      ]
    }
  ]
}